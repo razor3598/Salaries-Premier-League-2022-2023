{
 "cells": [
  {
   "cell_type": "markdown",
   "id": "03da84c8",
   "metadata": {},
   "source": [
    "## Import required libraries"
   ]
  },
  {
   "cell_type": "code",
   "execution_count": 98,
   "id": "c4ef96af",
   "metadata": {},
   "outputs": [],
   "source": [
    "import requests\n",
    "import pandas as pd\n",
    "\n",
    "from bs4 import BeautifulSoup"
   ]
  },
  {
   "cell_type": "markdown",
   "id": "2b9e95a1",
   "metadata": {},
   "source": [
    "## Obtain hyperlinks to navigate to club URLs"
   ]
  },
  {
   "cell_type": "code",
   "execution_count": 61,
   "id": "c1bdcad9",
   "metadata": {},
   "outputs": [],
   "source": [
    "# Make a GET request\n",
    "r = requests.get('https://www.spotrac.com/epl/payroll/')\n",
    "\n",
    "# Using BeautifulSoup to traverse the webpage\n",
    "soup = BeautifulSoup(r.content, 'html.parser')\n",
    "s = soup.find('tbody')\n",
    "content = s.find_all('a')\n",
    "\n",
    "websites = []\n",
    "team_names = []\n",
    " \n",
    "# Iterating the top20 teams to obtain the current teams in the Premier League 2022-2023 season\n",
    "for i in range(20):\n",
    "    websites.append(str(content[i]).split('\\\"')[1])\n",
    "    team_names.append(''.join(str(content[i]).split(\"<\")[1].split(\">\")[1]))"
   ]
  },
  {
   "cell_type": "markdown",
   "id": "8111c9f7",
   "metadata": {},
   "source": [
    "## Store Player Name, club and salary"
   ]
  },
  {
   "cell_type": "code",
   "execution_count": 100,
   "id": "b7f3e7b7",
   "metadata": {},
   "outputs": [],
   "source": [
    "players_salary = {\"Name\" : [], \"Club\":[], \"Salary\": []}\n",
    "\n",
    "# Iterating over all obtained hyperlinks for the club\n",
    "for i, website in enumerate(websites):\n",
    "    r = requests.get(website)\n",
    "    soup = BeautifulSoup(r.content, 'html.parser')\n",
    "    s = soup.find('tbody')\n",
    "    \n",
    "    # Store player name\n",
    "    content = s.find_all('a')\n",
    "    \n",
    "    for player_name in content:\n",
    "        players_salary['Name'].append(''.join(str(player_name).split(\"<\")[1].split(\">\")[1]))\n",
    "    \n",
    "    # Store Player salaries\n",
    "    content = s.find_all('span', title = 'Annual Figure')\n",
    "    \n",
    "    for salary in content:    \n",
    "        salary_value = ''.join(str(salary).split(\">\")[1].split(\"<\")[0])[1:].strip().replace(\",\", \"\")\n",
    "        if salary_value != \"\":\n",
    "            players_salary['Salary'].append(int(salary_value))\n",
    "            \n",
    "        else:\n",
    "            players_salary['Salary'].append(None)\n",
    "    \n",
    "        players_salary[\"Club\"].append(team_names[i])\n",
    "    \n",
    "    "
   ]
  },
  {
   "cell_type": "markdown",
   "id": "a0ca5e45",
   "metadata": {},
   "source": [
    "## Convert dataset to Pandas DataFrame and save as csv file"
   ]
  },
  {
   "cell_type": "code",
   "execution_count": 101,
   "id": "0d05981e",
   "metadata": {},
   "outputs": [],
   "source": [
    "salary_dataset = pd.DataFrame.from_dict(players_salary)\n",
    "salary_dataset.to_csv(\"PremierLeague_2022-2023_salaries.csv\")"
   ]
  }
 ],
 "metadata": {
  "kernelspec": {
   "display_name": "Python 3 (ipykernel)",
   "language": "python",
   "name": "python3"
  },
  "language_info": {
   "codemirror_mode": {
    "name": "ipython",
    "version": 3
   },
   "file_extension": ".py",
   "mimetype": "text/x-python",
   "name": "python",
   "nbconvert_exporter": "python",
   "pygments_lexer": "ipython3",
   "version": "3.9.13"
  }
 },
 "nbformat": 4,
 "nbformat_minor": 5
}
